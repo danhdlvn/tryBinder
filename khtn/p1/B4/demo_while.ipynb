{
 "cells": [
  {
   "cell_type": "code",
   "execution_count": null,
   "metadata": {},
   "outputs": [],
   "source": [
    "# Hãy in ra tất cả các ký tự trong chuỗi\n",
    "chuoi = 'Hello Python'\n",
    "\n",
    "\n",
    "\n"
   ]
  },
  {
   "cell_type": "code",
   "execution_count": 5,
   "metadata": {},
   "outputs": [
    {
     "name": "stdout",
     "output_type": "stream",
     "text": [
      "H\n",
      "e\n",
      "l\n",
      "l\n",
      "o\n",
      " \n",
      "P\n",
      "y\n",
      "t\n",
      "h\n",
      "o\n",
      "n\n"
     ]
    }
   ],
   "source": [
    "# Vòng lặp WHILE\n",
    "chuoi = 'Hello Python'\n",
    "n = 0\n",
    "index_cuoi = len(chuoi) - 1\n",
    "while n <= index_cuoi:\n",
    "    print(chuoi[n])\n",
    "    n +=1 # n = n+1 # bước nhảy (step)\n",
    "\n",
    "    \n",
    "    "
   ]
  },
  {
   "cell_type": "code",
   "execution_count": 13,
   "metadata": {},
   "outputs": [
    {
     "name": "stdout",
     "output_type": "stream",
     "text": [
      "55\n"
     ]
    }
   ],
   "source": [
    "# Tính tổng các giá trị trong vòng lặp từ 1 đến 10\n",
    "\n",
    "i = 1\n",
    "tong = 0\n",
    "while i < 11:\n",
    "    tong = tong + i\n",
    "    i += 1\n",
    "print(tong)"
   ]
  },
  {
   "cell_type": "code",
   "execution_count": 16,
   "metadata": {},
   "outputs": [
    {
     "ename": "SyntaxError",
     "evalue": "invalid syntax (<ipython-input-16-6a9c2b759286>, line 12)",
     "output_type": "error",
     "traceback": [
      "\u001b[1;36m  File \u001b[1;32m\"<ipython-input-16-6a9c2b759286>\"\u001b[1;36m, line \u001b[1;32m12\u001b[0m\n\u001b[1;33m    a +=1\u001b[0m\n\u001b[1;37m    ^\u001b[0m\n\u001b[1;31mSyntaxError\u001b[0m\u001b[1;31m:\u001b[0m invalid syntax\n"
     ]
    }
   ],
   "source": [
    "# Cho người dùng nhập vào 1 số n\n",
    "# In ra cửu chương tương ứng\n",
    "# VD:\n",
    "# n = 5\n",
    "# 5 x 1 = 5\n",
    "# ....\n",
    "# 5 x 10 = 50\n",
    "n = int(input('Nhập n: '))\n",
    "a = 1\n",
    "while a <= 10:\n",
    "    print('%a x %a =%a' %(n, a,  n*a )\n",
    "    a +=1"
   ]
  },
  {
   "cell_type": "code",
   "execution_count": 21,
   "metadata": {},
   "outputs": [
    {
     "name": "stdout",
     "output_type": "stream",
     "text": [
      "Nhập chiều dài:5\n",
      "Nhập chiều rộng:1\n",
      "* * * * * \n"
     ]
    }
   ],
   "source": [
    "# In tam giác vuông cân bằng dấu sao (*)\n",
    "\n",
    "a = int(input('Nhập chiều dài:'))\n",
    "b = int(input('Nhập chiều rộng:'))\n",
    "\n",
    "\n",
    "for i in range(b):\n",
    "    print('* ' *a)\n"
   ]
  },
  {
   "cell_type": "code",
   "execution_count": null,
   "metadata": {},
   "outputs": [],
   "source": []
  }
 ],
 "metadata": {
  "kernelspec": {
   "display_name": "Python 3",
   "language": "python",
   "name": "python3"
  },
  "language_info": {
   "codemirror_mode": {
    "name": "ipython",
    "version": 3
   },
   "file_extension": ".py",
   "mimetype": "text/x-python",
   "name": "python",
   "nbconvert_exporter": "python",
   "pygments_lexer": "ipython3",
   "version": "3.6.8"
  }
 },
 "nbformat": 4,
 "nbformat_minor": 4
}
