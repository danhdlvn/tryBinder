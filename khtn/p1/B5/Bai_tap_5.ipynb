{
 "cells": [
  {
   "cell_type": "code",
   "execution_count": 1,
   "metadata": {},
   "outputs": [
    {
     "name": "stdout",
     "output_type": "stream",
     "text": [
      "Nhập số: 10\n",
      "10\n",
      "9\n",
      "8\n",
      "7\n",
      "6\n",
      "5\n",
      "4\n",
      "3\n",
      "2\n",
      "1\n",
      "Start!!!\n"
     ]
    }
   ],
   "source": [
    "# Bài 5.1\n",
    "\n",
    "# Sử dụng while\n",
    "n = int(input(\"Nhập số: \"))\n",
    "while n > 0:\n",
    "    print(n)\n",
    "    n -= 1\n",
    "else:\n",
    "    print(\"Start!!!\")"
   ]
  },
  {
   "cell_type": "code",
   "execution_count": 2,
   "metadata": {},
   "outputs": [
    {
     "name": "stdout",
     "output_type": "stream",
     "text": [
      "Nhập số: 10\n",
      "10\n",
      "9\n",
      "8\n",
      "7\n",
      "6\n",
      "5\n",
      "4\n",
      "3\n",
      "2\n",
      "1\n",
      "Start!!!\n"
     ]
    }
   ],
   "source": [
    "# Bài 5.1\n",
    "\n",
    "# Sử dụng for\n",
    "n = int(input(\"Nhập số: \"))\n",
    "for i in range(n, 0, -1):\n",
    "    print(i)\n",
    "else:\n",
    "    print(\"Start!!!\")"
   ]
  },
  {
   "cell_type": "code",
   "execution_count": 4,
   "metadata": {},
   "outputs": [
    {
     "name": "stdout",
     "output_type": "stream",
     "text": [
      "Nhập số cần xét: 6\n",
      "Số 6 không là số nguyên tố\n"
     ]
    }
   ],
   "source": [
    "# Bài 5.4\n",
    "# Cách 1\n",
    "n = int(input(\"Nhập số cần xét: \"))\n",
    "count = 0\n",
    "for i in range(1, n + 1):\n",
    "    if n % i == 0:\n",
    "        count += 1\n",
    "else:\n",
    "    if count == 2:\n",
    "        print(\"Số %i là số nguyên tố\" % n)\n",
    "    else:\n",
    "        print(\"Số %i không là số nguyên tố\" % n)"
   ]
  },
  {
   "cell_type": "code",
   "execution_count": 8,
   "metadata": {},
   "outputs": [
    {
     "name": "stdout",
     "output_type": "stream",
     "text": [
      "Nhập số cần xét: 1\n",
      "Số 1 không là số nguyên tố\n"
     ]
    }
   ],
   "source": [
    "# Bài 5.4\n",
    "# Cách 2\n",
    "\n",
    "n = int(input(\"Nhập số cần xét: \"))\n",
    "if n < 2:\n",
    "    print(\"Số %i không là số nguyên tố\" % n)\n",
    "else:\n",
    "    for i in range(2, n):\n",
    "        if n % i == 0:\n",
    "            print(\"Số %i không là số nguyên tố\" % n)\n",
    "            break\n",
    "    else:\n",
    "        print(\"Số %i là số nguyên tố\" % n)"
   ]
  },
  {
   "cell_type": "code",
   "execution_count": 19,
   "metadata": {},
   "outputs": [
    {
     "name": "stdout",
     "output_type": "stream",
     "text": [
      "Nhập số: 9\n",
      "A = 1 + 3 + 5 + 7 + 9 +  = 25\n",
      "B = 2 + 4 + 6 + 8 +  = 20\n",
      "E = 2 + 3 + 5 + 7 +  = 17\n"
     ]
    }
   ],
   "source": [
    "# Bài 5.5\n",
    "\n",
    "n = int(input(\"Nhập số: \"))\n",
    "\n",
    "A = 0\n",
    "chuoi_A = ''\n",
    "\n",
    "B = 0\n",
    "chuoi_B = ''\n",
    "\n",
    "E = 0\n",
    "chuoi_E = ''\n",
    "\n",
    "i = 1\n",
    "while i <= n:\n",
    "    # Tính A: tổng các số lẻ nhỏ hơn hay bằng n\n",
    "    if i % 2 != 0:\n",
    "        A += i  # A = A + i\n",
    "        chuoi_A += str(i) + \" + \" # chuoi_A = chuoi_A + str(i) + \" + \"\n",
    "        \n",
    "    # Tính B\n",
    "    if i % 2 == 0:\n",
    "        B += i\n",
    "        chuoi_B += str(i) + \" + \"\n",
    "    \n",
    "    # Tính C\n",
    "    \n",
    "    # Tính D\n",
    "    \n",
    "    # Tính E\n",
    "    if i >= 2:\n",
    "        for j in range(2, i):\n",
    "            if i % j == 0:\n",
    "                break\n",
    "        else:\n",
    "            E += i\n",
    "            chuoi_E += str(i) + \" + \"\n",
    "        \n",
    "    # Bước nhảy của while\n",
    "    i += 1\n",
    "else:\n",
    "    print(\"A =\", chuoi_A, \"=\", A)\n",
    "    print(\"B =\", chuoi_B, \"=\", B)\n",
    "    print(\"E =\", chuoi_E, \"=\", E)"
   ]
  },
  {
   "cell_type": "code",
   "execution_count": null,
   "metadata": {},
   "outputs": [],
   "source": []
  }
 ],
 "metadata": {
  "kernelspec": {
   "display_name": "Python 3",
   "language": "python",
   "name": "python3"
  },
  "language_info": {
   "codemirror_mode": {
    "name": "ipython",
    "version": 3
   },
   "file_extension": ".py",
   "mimetype": "text/x-python",
   "name": "python",
   "nbconvert_exporter": "python",
   "pygments_lexer": "ipython3",
   "version": "3.6.8"
  }
 },
 "nbformat": 4,
 "nbformat_minor": 2
}
