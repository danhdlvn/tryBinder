{
 "cells": [
  {
   "cell_type": "code",
   "execution_count": 4,
   "metadata": {},
   "outputs": [
    {
     "name": "stdout",
     "output_type": "stream",
     "text": [
      "\n",
      "Bạn muốn làm gì?\n",
      "1. Gửi tiền\n",
      "2. Rút tiền\n"
     ]
    },
    {
     "name": "stdin",
     "output_type": "stream",
     "text": [
      "Vui lòng chọn:  1\n",
      "Bạn muốn gửi bao nhiêu tiền:  10000\n"
     ]
    },
    {
     "name": "stdout",
     "output_type": "stream",
     "text": [
      "Giao dịch thành công\n"
     ]
    },
    {
     "name": "stdin",
     "output_type": "stream",
     "text": [
      "continue (y/n) ?  y\n"
     ]
    },
    {
     "name": "stdout",
     "output_type": "stream",
     "text": [
      "\n",
      "Bạn muốn làm gì?\n",
      "1. Gửi tiền\n",
      "2. Rút tiền\n"
     ]
    },
    {
     "name": "stdin",
     "output_type": "stream",
     "text": [
      "Vui lòng chọn:  2\n",
      "Bạn muốn rút bao nhiêu tiền:  200\n"
     ]
    },
    {
     "name": "stdout",
     "output_type": "stream",
     "text": [
      "Giao dịch thành công\n"
     ]
    },
    {
     "name": "stdin",
     "output_type": "stream",
     "text": [
      "continue (y/n) ?  n\n"
     ]
    },
    {
     "name": "stdout",
     "output_type": "stream",
     "text": [
      "STT   MÃ GD      NGÀY - GIỜ                   SỐ TIỀN\n",
      "1     GD1        16-Sep-2020 08:30:54          10,000\n",
      "2     GD2        16-Sep-2020 08:30:58            -200\n"
     ]
    }
   ],
   "source": [
    "## from datetime import datetime\n",
    "\n",
    "welcome = \"\"\"\n",
    "Bạn muốn làm gì?\n",
    "1. Gửi tiền\n",
    "2. Rút tiền\"\"\"\n",
    "success = \"Giao dịch thành công\"\n",
    "giao_dich = []\n",
    "\n",
    "def main():\n",
    "    loop = \"y\"\n",
    "    while loop != \"n\":\n",
    "        option = 0\n",
    "        while (option != \"1\" and option != \"2\"):\n",
    "            print(welcome)\n",
    "            option = input(\"Vui lòng chọn: \")\n",
    "\n",
    "        if option == \"1\":\n",
    "            tien = +int(input(\"Bạn muốn gửi bao nhiêu tiền: \"))\n",
    "        else:\n",
    "            tien = -int(input(\"Bạn muốn rút bao nhiêu tiền: \"))        \n",
    "\n",
    "        print(success)\n",
    "        tao_giao_dich(tien)\n",
    "        \n",
    "        loop = input(\"continue (y/n) ? \")\n",
    "        while loop != \"y\" and loop != \"n\":\n",
    "            loop = input(\"continue (y/n) ? \")\n",
    "            \n",
    "    xuat_giao_dich(giao_dich)\n",
    "\n",
    "def tao_giao_dich(tien):\n",
    "    dateTimeObj = datetime.now()\n",
    "    timestampStr = dateTimeObj.strftime(\"%d-%b-%Y %H:%M:%S\")\n",
    "    STT = len(giao_dich) + 1\n",
    "    giao_dich.append([\"GD\"+ str(STT), timestampStr, \"{:0,.0f}\".format(tien)])\n",
    "\n",
    "def xuat_giao_dich(data):    \n",
    "    print(\"%-7s %-10s %-25s %15s\" %(\"STT\", \"MÃ GD\", \"NGÀY - GIỜ\" , \"SỐ TIỀN\"))\n",
    "    for STT, row in enumerate(data):\n",
    "        print(\"%-7s %-10s %-25s %15s\" %(STT+1, row[0],row[1],row[2]))\n",
    "    \n",
    "\n",
    "main()\n"
   ]
  },
  {
   "cell_type": "code",
   "execution_count": null,
   "metadata": {},
   "outputs": [],
   "source": []
  },
  {
   "cell_type": "code",
   "execution_count": null,
   "metadata": {},
   "outputs": [],
   "source": []
  },
  {
   "cell_type": "code",
   "execution_count": null,
   "metadata": {},
   "outputs": [],
   "source": []
  }
 ],
 "metadata": {
  "kernelspec": {
   "display_name": "Python 3",
   "language": "python",
   "name": "python3"
  },
  "language_info": {
   "codemirror_mode": {
    "name": "ipython",
    "version": 3
   },
   "file_extension": ".py",
   "mimetype": "text/x-python",
   "name": "python",
   "nbconvert_exporter": "python",
   "pygments_lexer": "ipython3",
   "version": "3.7.8"
  }
 },
 "nbformat": 4,
 "nbformat_minor": 4
}
