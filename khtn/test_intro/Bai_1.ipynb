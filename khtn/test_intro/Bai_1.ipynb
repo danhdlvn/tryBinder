{
 "cells": [
  {
   "cell_type": "code",
   "execution_count": 2,
   "metadata": {},
   "outputs": [
    {
     "name": "stdin",
     "output_type": "stream",
     "text": [
      "mountain có nghĩa gì ?  núi\n"
     ]
    },
    {
     "name": "stdout",
     "output_type": "stream",
     "text": [
      "Đúng\n"
     ]
    },
    {
     "name": "stdin",
     "output_type": "stream",
     "text": [
      "continue (y/n) ?  y\n",
      "man có nghĩa gì ?  trai\n"
     ]
    },
    {
     "name": "stdout",
     "output_type": "stream",
     "text": [
      "Sai. Nghĩa của man là :\n",
      "- đàn ông\n"
     ]
    },
    {
     "name": "stdin",
     "output_type": "stream",
     "text": [
      "continue (y/n) ?  y\n",
      "mountain có nghĩa gì ?  mo\n"
     ]
    },
    {
     "name": "stdout",
     "output_type": "stream",
     "text": [
      "Sai. Nghĩa của mountain là :\n",
      "- núi\n",
      "- ngọn núi\n"
     ]
    },
    {
     "name": "stdin",
     "output_type": "stream",
     "text": [
      "continue (y/n) ?  y\n",
      "man có nghĩa gì ?  ông\n"
     ]
    },
    {
     "name": "stdout",
     "output_type": "stream",
     "text": [
      "Sai. Nghĩa của man là :\n",
      "- đàn ông\n"
     ]
    },
    {
     "name": "stdin",
     "output_type": "stream",
     "text": [
      "continue (y/n) ?  y\n",
      "mountain có nghĩa gì ?  ngọn núi\n"
     ]
    },
    {
     "name": "stdout",
     "output_type": "stream",
     "text": [
      "Đúng\n"
     ]
    },
    {
     "name": "stdin",
     "output_type": "stream",
     "text": [
      "continue (y/n) ?  y\n",
      "moon có nghĩa gì ?  trăng\n"
     ]
    },
    {
     "name": "stdout",
     "output_type": "stream",
     "text": [
      "Sai. Nghĩa của moon là :\n",
      "- mặt trăng\n"
     ]
    },
    {
     "name": "stdin",
     "output_type": "stream",
     "text": [
      "continue (y/n) ?  y\n",
      "mountain có nghĩa gì ?  g\n"
     ]
    },
    {
     "name": "stdout",
     "output_type": "stream",
     "text": [
      "Sai. Nghĩa của mountain là :\n",
      "- núi\n",
      "- ngọn núi\n"
     ]
    },
    {
     "name": "stdin",
     "output_type": "stream",
     "text": [
      "continue (y/n) ?  \n",
      "continue (y/n) ?  y\n",
      "house có nghĩa gì ?  nhà\n"
     ]
    },
    {
     "name": "stdout",
     "output_type": "stream",
     "text": [
      "Đúng\n"
     ]
    },
    {
     "name": "stdin",
     "output_type": "stream",
     "text": [
      "continue (y/n) ?  y\n",
      "woman có nghĩa gì ?  nữ\n"
     ]
    },
    {
     "name": "stdout",
     "output_type": "stream",
     "text": [
      "Sai. Nghĩa của woman là :\n",
      "- đàn bà\n",
      "- phụ nữ\n"
     ]
    },
    {
     "name": "stdin",
     "output_type": "stream",
     "text": [
      "continue (y/n) ?  n\n"
     ]
    }
   ],
   "source": [
    "import random\n",
    "import json\n",
    "\n",
    "file = open(\"tu_dien.txt\", 'r', encoding='utf-8')\n",
    "tu_dien_txt = file.read()\n",
    "tu_dien_str = tu_dien_txt[tu_dien_txt.index('{'):] \n",
    "tu_dien = json.loads(tu_dien_str)\n",
    "\n",
    "file.close()\n",
    "loop = \"y\"\n",
    "while loop != \"n\":\n",
    "    en_word = random.choice(list(tu_dien.keys()))\n",
    "    vn_guess = input(en_word + \" có nghĩa gì ? \")\n",
    "    if (vn_guess in tu_dien[en_word]):\n",
    "        print(\"Đúng\")\n",
    "    else:\n",
    "        print(\"Sai. Nghĩa của \" + en_word + \" là :\")\n",
    "        for vn_mean in tu_dien[en_word]:\n",
    "            print(\"- \" + vn_mean)\n",
    "    loop = input(\"continue (y/n) ? \")\n",
    "    while loop != \"y\" and loop != \"n\":\n",
    "        loop = input(\"continue (y/n) ? \")"
   ]
  },
  {
   "cell_type": "code",
   "execution_count": null,
   "metadata": {},
   "outputs": [],
   "source": []
  }
 ],
 "metadata": {
  "kernelspec": {
   "display_name": "Python 3",
   "language": "python",
   "name": "python3"
  },
  "language_info": {
   "codemirror_mode": {
    "name": "ipython",
    "version": 3
   },
   "file_extension": ".py",
   "mimetype": "text/x-python",
   "name": "python",
   "nbconvert_exporter": "python",
   "pygments_lexer": "ipython3",
   "version": "3.7.8"
  }
 },
 "nbformat": 4,
 "nbformat_minor": 4
}
