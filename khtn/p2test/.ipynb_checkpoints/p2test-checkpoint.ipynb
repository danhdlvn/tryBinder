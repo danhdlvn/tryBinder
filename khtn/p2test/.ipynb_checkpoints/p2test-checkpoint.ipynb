{
 "cells": [
  {
   "cell_type": "markdown",
   "metadata": {},
   "source": [
    "# 1. Tạo DataFrame employees chứa danh sách các nhân viên. Danh sách này được đọc từ tập tin employees.xls\n",
    "# 2. Xem các thông tin của employees và xem 5 nhân viên đầu tiên."
   ]
  },
  {
   "cell_type": "code",
   "execution_count": 28,
   "metadata": {},
   "outputs": [],
   "source": [
    "import numpy as np\n",
    "import pandas as pd\n",
    "\n",
    "df_employee = pd.read_excel('employees.xlsx')"
   ]
  },
  {
   "cell_type": "code",
   "execution_count": 29,
   "metadata": {},
   "outputs": [
    {
     "data": {
      "text/plain": [
       "(107, 11)"
      ]
     },
     "execution_count": 29,
     "metadata": {},
     "output_type": "execute_result"
    }
   ],
   "source": [
    "df_employee.shape"
   ]
  },
  {
   "cell_type": "code",
   "execution_count": 30,
   "metadata": {},
   "outputs": [
    {
     "name": "stdout",
     "output_type": "stream",
     "text": [
      "<class 'pandas.core.frame.DataFrame'>\n",
      "RangeIndex: 107 entries, 0 to 106\n",
      "Data columns (total 11 columns):\n",
      "EMPLOYEE_ID       107 non-null int64\n",
      "FIRST_NAME        107 non-null object\n",
      "LAST_NAME         107 non-null object\n",
      "EMAIL             107 non-null object\n",
      "PHONE_NUMBER      107 non-null object\n",
      "HIRE_DATE         107 non-null object\n",
      "JOB_ID            107 non-null object\n",
      "SALARY            107 non-null int64\n",
      "COMMISSION_PCT    35 non-null float64\n",
      "MANAGER_ID        106 non-null float64\n",
      "DEPARTMENT_ID     106 non-null float64\n",
      "dtypes: float64(3), int64(2), object(6)\n",
      "memory usage: 9.3+ KB\n",
      "None\n"
     ]
    }
   ],
   "source": [
    "print(df_employee.info())"
   ]
  },
  {
   "cell_type": "code",
   "execution_count": 31,
   "metadata": {},
   "outputs": [
    {
     "data": {
      "text/html": [
       "<div>\n",
       "<style scoped>\n",
       "    .dataframe tbody tr th:only-of-type {\n",
       "        vertical-align: middle;\n",
       "    }\n",
       "\n",
       "    .dataframe tbody tr th {\n",
       "        vertical-align: top;\n",
       "    }\n",
       "\n",
       "    .dataframe thead th {\n",
       "        text-align: right;\n",
       "    }\n",
       "</style>\n",
       "<table border=\"1\" class=\"dataframe\">\n",
       "  <thead>\n",
       "    <tr style=\"text-align: right;\">\n",
       "      <th></th>\n",
       "      <th>EMPLOYEE_ID</th>\n",
       "      <th>FIRST_NAME</th>\n",
       "      <th>LAST_NAME</th>\n",
       "      <th>EMAIL</th>\n",
       "      <th>PHONE_NUMBER</th>\n",
       "      <th>HIRE_DATE</th>\n",
       "      <th>JOB_ID</th>\n",
       "      <th>SALARY</th>\n",
       "      <th>COMMISSION_PCT</th>\n",
       "      <th>MANAGER_ID</th>\n",
       "      <th>DEPARTMENT_ID</th>\n",
       "    </tr>\n",
       "  </thead>\n",
       "  <tbody>\n",
       "    <tr>\n",
       "      <th>0</th>\n",
       "      <td>100</td>\n",
       "      <td>Steven</td>\n",
       "      <td>King</td>\n",
       "      <td>SKING</td>\n",
       "      <td>515.123.4567</td>\n",
       "      <td>2003-06-17 00:00:00</td>\n",
       "      <td>AD_PRES</td>\n",
       "      <td>24000</td>\n",
       "      <td>NaN</td>\n",
       "      <td>NaN</td>\n",
       "      <td>90.0</td>\n",
       "    </tr>\n",
       "    <tr>\n",
       "      <th>1</th>\n",
       "      <td>101</td>\n",
       "      <td>Neena</td>\n",
       "      <td>Kochhar</td>\n",
       "      <td>NKOCHHAR</td>\n",
       "      <td>515.123.4568</td>\n",
       "      <td>2005-09-21 00:00:00</td>\n",
       "      <td>AD_VP</td>\n",
       "      <td>17000</td>\n",
       "      <td>NaN</td>\n",
       "      <td>100.0</td>\n",
       "      <td>90.0</td>\n",
       "    </tr>\n",
       "    <tr>\n",
       "      <th>2</th>\n",
       "      <td>102</td>\n",
       "      <td>Lex</td>\n",
       "      <td>De Haan</td>\n",
       "      <td>LDEHAAN</td>\n",
       "      <td>515.123.4569</td>\n",
       "      <td>2001-01-13 00:00:00</td>\n",
       "      <td>AD_VP</td>\n",
       "      <td>17000</td>\n",
       "      <td>NaN</td>\n",
       "      <td>100.0</td>\n",
       "      <td>90.0</td>\n",
       "    </tr>\n",
       "    <tr>\n",
       "      <th>3</th>\n",
       "      <td>103</td>\n",
       "      <td>Alexander</td>\n",
       "      <td>Hunold</td>\n",
       "      <td>AHUNOLD</td>\n",
       "      <td>590.423.4567</td>\n",
       "      <td>2006-01-03 00:00:00</td>\n",
       "      <td>IT_PROG</td>\n",
       "      <td>9000</td>\n",
       "      <td>NaN</td>\n",
       "      <td>102.0</td>\n",
       "      <td>60.0</td>\n",
       "    </tr>\n",
       "    <tr>\n",
       "      <th>4</th>\n",
       "      <td>104</td>\n",
       "      <td>Bruce</td>\n",
       "      <td>Ernst</td>\n",
       "      <td>BERNST</td>\n",
       "      <td>590.423.4568</td>\n",
       "      <td>2007-05-21 00:00:00</td>\n",
       "      <td>IT_PROG</td>\n",
       "      <td>6000</td>\n",
       "      <td>NaN</td>\n",
       "      <td>103.0</td>\n",
       "      <td>60.0</td>\n",
       "    </tr>\n",
       "  </tbody>\n",
       "</table>\n",
       "</div>"
      ],
      "text/plain": [
       "   EMPLOYEE_ID FIRST_NAME LAST_NAME     EMAIL  PHONE_NUMBER  \\\n",
       "0          100     Steven      King     SKING  515.123.4567   \n",
       "1          101      Neena   Kochhar  NKOCHHAR  515.123.4568   \n",
       "2          102        Lex   De Haan   LDEHAAN  515.123.4569   \n",
       "3          103  Alexander    Hunold   AHUNOLD  590.423.4567   \n",
       "4          104      Bruce     Ernst    BERNST  590.423.4568   \n",
       "\n",
       "             HIRE_DATE   JOB_ID  SALARY  COMMISSION_PCT  MANAGER_ID  \\\n",
       "0  2003-06-17 00:00:00  AD_PRES   24000             NaN         NaN   \n",
       "1  2005-09-21 00:00:00    AD_VP   17000             NaN       100.0   \n",
       "2  2001-01-13 00:00:00    AD_VP   17000             NaN       100.0   \n",
       "3  2006-01-03 00:00:00  IT_PROG    9000             NaN       102.0   \n",
       "4  2007-05-21 00:00:00  IT_PROG    6000             NaN       103.0   \n",
       "\n",
       "   DEPARTMENT_ID  \n",
       "0           90.0  \n",
       "1           90.0  \n",
       "2           90.0  \n",
       "3           60.0  \n",
       "4           60.0  "
      ]
     },
     "execution_count": 31,
     "metadata": {},
     "output_type": "execute_result"
    }
   ],
   "source": [
    "df_employee.head()"
   ]
  },
  {
   "cell_type": "markdown",
   "metadata": {},
   "source": [
    "# 3. Tạo các DataFrame departments chứa danh sách các nhân viên và jobs chứa danh sách các công việc. Các danh sách này được đọc từ các tập tin departments.xls và job.xls"
   ]
  },
  {
   "cell_type": "code",
   "execution_count": 35,
   "metadata": {},
   "outputs": [
    {
     "name": "stdout",
     "output_type": "stream",
     "text": [
      "   DEPARTMENT_ID  DEPARTMENT_NAME  MANAGER_ID  LOCATION_ID\n",
      "0             10   Administration       200.0         1700\n",
      "1             20        Marketing       201.0         1800\n",
      "2             30       Purchasing       114.0         1700\n",
      "3             40  Human Resources       203.0         2400\n",
      "4             50         Shipping       121.0         1500\n",
      "       JOB_ID                      JOB_TITLE  MIN_SALARY  MAX_SALARY\n",
      "0  AC_ACCOUNT              Public Accountant        4200        9000\n",
      "1      AC_MGR             Accounting Manager        8200       16000\n",
      "2     AD_ASST       Administration Assistant        3000        6000\n",
      "3     AD_PRES                      President       20080       40000\n",
      "4       AD_VP  Administration Vice President       15000       30000\n"
     ]
    }
   ],
   "source": [
    "df_department = pd.read_excel('departments.xlsx')\n",
    "df_jobs = pd.read_excel('jobs.xlsx')\n",
    "print(df_department.head())\n",
    "print(df_jobs.head())"
   ]
  },
  {
   "cell_type": "markdown",
   "metadata": {},
   "source": [
    "# 4. Tạo DataFrame emp là danh sách các nhân viên của DataFrame employees chỉ với các cột theo mẫu sau:\n"
   ]
  },
  {
   "cell_type": "code",
   "execution_count": 38,
   "metadata": {},
   "outputs": [
    {
     "data": {
      "text/html": [
       "<div>\n",
       "<style scoped>\n",
       "    .dataframe tbody tr th:only-of-type {\n",
       "        vertical-align: middle;\n",
       "    }\n",
       "\n",
       "    .dataframe tbody tr th {\n",
       "        vertical-align: top;\n",
       "    }\n",
       "\n",
       "    .dataframe thead th {\n",
       "        text-align: right;\n",
       "    }\n",
       "</style>\n",
       "<table border=\"1\" class=\"dataframe\">\n",
       "  <thead>\n",
       "    <tr style=\"text-align: right;\">\n",
       "      <th></th>\n",
       "      <th>EMPLOYEE_ID</th>\n",
       "      <th>FIRST_NAME</th>\n",
       "      <th>LAST_NAME</th>\n",
       "      <th>HIRE_DATE</th>\n",
       "      <th>SALARY</th>\n",
       "      <th>DEPARTMENT_ID</th>\n",
       "      <th>JOB_ID</th>\n",
       "    </tr>\n",
       "  </thead>\n",
       "  <tbody>\n",
       "    <tr>\n",
       "      <th>0</th>\n",
       "      <td>100</td>\n",
       "      <td>Steven</td>\n",
       "      <td>King</td>\n",
       "      <td>2003-06-17 00:00:00</td>\n",
       "      <td>24000</td>\n",
       "      <td>90.0</td>\n",
       "      <td>AD_PRES</td>\n",
       "    </tr>\n",
       "    <tr>\n",
       "      <th>1</th>\n",
       "      <td>101</td>\n",
       "      <td>Neena</td>\n",
       "      <td>Kochhar</td>\n",
       "      <td>2005-09-21 00:00:00</td>\n",
       "      <td>17000</td>\n",
       "      <td>90.0</td>\n",
       "      <td>AD_VP</td>\n",
       "    </tr>\n",
       "    <tr>\n",
       "      <th>2</th>\n",
       "      <td>102</td>\n",
       "      <td>Lex</td>\n",
       "      <td>De Haan</td>\n",
       "      <td>2001-01-13 00:00:00</td>\n",
       "      <td>17000</td>\n",
       "      <td>90.0</td>\n",
       "      <td>AD_VP</td>\n",
       "    </tr>\n",
       "    <tr>\n",
       "      <th>3</th>\n",
       "      <td>103</td>\n",
       "      <td>Alexander</td>\n",
       "      <td>Hunold</td>\n",
       "      <td>2006-01-03 00:00:00</td>\n",
       "      <td>9000</td>\n",
       "      <td>60.0</td>\n",
       "      <td>IT_PROG</td>\n",
       "    </tr>\n",
       "    <tr>\n",
       "      <th>4</th>\n",
       "      <td>104</td>\n",
       "      <td>Bruce</td>\n",
       "      <td>Ernst</td>\n",
       "      <td>2007-05-21 00:00:00</td>\n",
       "      <td>6000</td>\n",
       "      <td>60.0</td>\n",
       "      <td>IT_PROG</td>\n",
       "    </tr>\n",
       "  </tbody>\n",
       "</table>\n",
       "</div>"
      ],
      "text/plain": [
       "   EMPLOYEE_ID FIRST_NAME LAST_NAME            HIRE_DATE  SALARY  \\\n",
       "0          100     Steven      King  2003-06-17 00:00:00   24000   \n",
       "1          101      Neena   Kochhar  2005-09-21 00:00:00   17000   \n",
       "2          102        Lex   De Haan  2001-01-13 00:00:00   17000   \n",
       "3          103  Alexander    Hunold  2006-01-03 00:00:00    9000   \n",
       "4          104      Bruce     Ernst  2007-05-21 00:00:00    6000   \n",
       "\n",
       "   DEPARTMENT_ID   JOB_ID  \n",
       "0           90.0  AD_PRES  \n",
       "1           90.0    AD_VP  \n",
       "2           90.0    AD_VP  \n",
       "3           60.0  IT_PROG  \n",
       "4           60.0  IT_PROG  "
      ]
     },
     "execution_count": 38,
     "metadata": {},
     "output_type": "execute_result"
    }
   ],
   "source": [
    "df_emp = pd.DataFrame(df_employee, columns = ['EMPLOYEE_ID','FIRST_NAME','LAST_NAME','HIRE_DATE','SALARY','DEPARTMENT_ID','JOB_ID'])\n",
    "df_emp.head()"
   ]
  },
  {
   "cell_type": "markdown",
   "metadata": {},
   "source": [
    "# 5. Trong DataFrame emp hãy thêm vào hai cột: DEPARTMENT_NAME (tên phòng) và JOB_TITLE (tên công việc) theo mẫu sau:\n"
   ]
  },
  {
   "cell_type": "code",
   "execution_count": null,
   "metadata": {},
   "outputs": [],
   "source": []
  }
 ],
 "metadata": {
  "kernelspec": {
   "display_name": "Python 3",
   "language": "python",
   "name": "python3"
  },
  "language_info": {
   "codemirror_mode": {
    "name": "ipython",
    "version": 3
   },
   "file_extension": ".py",
   "mimetype": "text/x-python",
   "name": "python",
   "nbconvert_exporter": "python",
   "pygments_lexer": "ipython3",
   "version": "3.7.8"
  }
 },
 "nbformat": 4,
 "nbformat_minor": 4
}
