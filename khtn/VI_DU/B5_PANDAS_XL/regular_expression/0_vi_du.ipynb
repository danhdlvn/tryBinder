{
 "cells": [
  {
   "cell_type": "markdown",
   "metadata": {},
   "source": [
    "### Regular Expression\n",
    "- tìm kiếm: match, search, findall\n",
    "- tìm và thay thế: sub\n",
    "- chia chuỗi: split"
   ]
  },
  {
   "cell_type": "code",
   "execution_count": 1,
   "metadata": {},
   "outputs": [],
   "source": [
    "import re"
   ]
  },
  {
   "cell_type": "code",
   "execution_count": 3,
   "metadata": {},
   "outputs": [
    {
     "name": "stdout",
     "output_type": "stream",
     "text": [
      "khong tim thay!\n"
     ]
    }
   ],
   "source": [
    "# ham match: so khop mau voi chuoi, xet tu vi tri dau tien, \n",
    "# neu khong tim thay thi tra ve None, neu tim thay thi tra ve matchobject\n",
    "str = '1297 Via Cola di Rie'\n",
    "regex = '\\d+'\n",
    "match = re.match(regex, str)\n",
    "if match:\n",
    "    print(match.group(0))\n",
    "else:\n",
    "    print('khong tim thay!')"
   ]
  },
  {
   "cell_type": "code",
   "execution_count": 4,
   "metadata": {},
   "outputs": [
    {
     "name": "stdout",
     "output_type": "stream",
     "text": [
      "khong tim thay!\n"
     ]
    }
   ],
   "source": [
    "str = 'Rua Frei Caneca 1360'\n",
    "regex = '\\d+'\n",
    "match = re.match(regex, str)\n",
    "if match:\n",
    "    print(match.group(0))\n",
    "else:\n",
    "    print('khong tim thay!')    "
   ]
  },
  {
   "cell_type": "code",
   "execution_count": 5,
   "metadata": {},
   "outputs": [
    {
     "name": "stdout",
     "output_type": "stream",
     "text": [
      "Rua Frei Caneca \n"
     ]
    }
   ],
   "source": [
    "str = 'Rua Frei Caneca 1360'\n",
    "regex = '[^0-9]*'\n",
    "match = re.match(regex, str)\n",
    "if match:\n",
    "    print(match.group())\n",
    "else:\n",
    "    print('khong tim thay!')    "
   ]
  },
  {
   "cell_type": "code",
   "execution_count": 6,
   "metadata": {},
   "outputs": [
    {
     "name": "stdout",
     "output_type": "stream",
     "text": [
      "1360\n"
     ]
    }
   ],
   "source": [
    "# ham search: tim vi tri dau tien trong chuoi\n",
    "str = 'Rua Frei Caneca 1360 Murtenstrasse 921'\n",
    "regex = '\\d+'\n",
    "match = re.search(regex, str)\n",
    "if match:\n",
    "    print(match.group())\n",
    "else:\n",
    "    print('khong tim thay!')    "
   ]
  },
  {
   "cell_type": "code",
   "execution_count": 7,
   "metadata": {},
   "outputs": [
    {
     "name": "stdout",
     "output_type": "stream",
     "text": [
      "['1360', '921']\n"
     ]
    }
   ],
   "source": [
    "# ham findall: tim tat ca trong chuoi\n",
    "str = 'Rua Frei Caneca 1360 Murtenstrasse 921'\n",
    "regex = '\\d+'\n",
    "result = re.findall(regex, str)\n",
    "print(result)"
   ]
  },
  {
   "cell_type": "code",
   "execution_count": 22,
   "metadata": {},
   "outputs": [
    {
     "name": "stdout",
     "output_type": "stream",
     "text": [
      "['Rua Frei Caneca ', ' Murtenstrasse ']\n"
     ]
    }
   ],
   "source": [
    "str = 'Rua Frei Caneca 1360 Murtenstrasse 921'\n",
    "regex = '[^0-9]*\\s'\n",
    "result = re.findall(regex, str)\n",
    "print(result)"
   ]
  },
  {
   "cell_type": "code",
   "execution_count": 23,
   "metadata": {},
   "outputs": [
    {
     "name": "stdout",
     "output_type": "stream",
     "text": [
      "['I', 'wish', 'I', 'were', 'a', 'bird']\n"
     ]
    }
   ],
   "source": [
    "# ham split\n",
    "str = 'I wish I were a bird'\n",
    "regex = '\\s'\n",
    "result = re.split(regex, str)\n",
    "print(result)"
   ]
  },
  {
   "cell_type": "code",
   "execution_count": 8,
   "metadata": {},
   "outputs": [
    {
     "name": "stdout",
     "output_type": "stream",
     "text": [
      "['I', 'wish', 'I', 'were', 'a', 'bird']\n"
     ]
    }
   ],
   "source": [
    "str = 'I wish I were a     bird'\n",
    "regex = '\\s+'\n",
    "result = re.split(regex, str)\n",
    "print(result)"
   ]
  },
  {
   "cell_type": "code",
   "execution_count": 25,
   "metadata": {},
   "outputs": [
    {
     "name": "stdout",
     "output_type": "stream",
     "text": [
      "Phone Num :  2004 959 559\n"
     ]
    }
   ],
   "source": [
    "# ham sub\n",
    "phone = \"2004-959-559\"\n",
    "num = re.sub('\\D', \" \", phone)    \n",
    "print(\"Phone Num : \", num)"
   ]
  },
  {
   "cell_type": "code",
   "execution_count": null,
   "metadata": {},
   "outputs": [],
   "source": []
  }
 ],
 "metadata": {
  "kernelspec": {
   "display_name": "Python 3",
   "language": "python",
   "name": "python3"
  },
  "language_info": {
   "codemirror_mode": {
    "name": "ipython",
    "version": 3
   },
   "file_extension": ".py",
   "mimetype": "text/x-python",
   "name": "python",
   "nbconvert_exporter": "python",
   "pygments_lexer": "ipython3",
   "version": "3.7.4"
  }
 },
 "nbformat": 4,
 "nbformat_minor": 2
}
