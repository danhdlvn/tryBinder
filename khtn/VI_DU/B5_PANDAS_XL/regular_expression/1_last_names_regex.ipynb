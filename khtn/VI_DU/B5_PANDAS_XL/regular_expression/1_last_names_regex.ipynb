{
 "cells": [
  {
   "cell_type": "code",
   "execution_count": 1,
   "metadata": {},
   "outputs": [],
   "source": [
    "import re"
   ]
  },
  {
   "cell_type": "code",
   "execution_count": 2,
   "metadata": {},
   "outputs": [
    {
     "name": "stdout",
     "output_type": "stream",
     "text": [
      "Banda\n",
      "De Haan\n",
      "Doran\n",
      "Grant\n",
      "Grant\n",
      "Landry\n",
      "Philtanker\n",
      "Sarchand\n",
      "Sullivan\n",
      "Urman\n",
      "Vollman\n"
     ]
    }
   ],
   "source": [
    "# tìm các last_name có chứa chuỗi an\n",
    "f = open('last_names.txt')\n",
    "for line in f:\n",
    "    line = line.strip()\n",
    "    regex = r\"an\" # raw\n",
    "    if re.search(regex, line):\n",
    "        print(line)\n",
    "f.close()"
   ]
  },
  {
   "cell_type": "code",
   "execution_count": 3,
   "metadata": {},
   "outputs": [
    {
     "name": "stdout",
     "output_type": "stream",
     "text": [
      "Baer\n",
      "Baida\n",
      "Banda\n",
      "Bates\n"
     ]
    }
   ],
   "source": [
    "# tìm các last_name bắt đầu là Ba\n",
    "f = open('last_names.txt')\n",
    "for line in f:\n",
    "    line = line.strip()\n",
    "    regex = r\"^Ba\"\n",
    "    if re.search(regex, line):\n",
    "        print(line)\n",
    "f.close()"
   ]
  },
  {
   "cell_type": "code",
   "execution_count": 4,
   "metadata": {},
   "outputs": [
    {
     "name": "stdout",
     "output_type": "stream",
     "text": [
      "Baer\n",
      "Baida\n",
      "Banda\n",
      "Bates\n",
      "Bell\n",
      "Bernstein\n"
     ]
    }
   ],
   "source": [
    "# tìm các last_name bắt đầu là Ba hoặc Be\n",
    "f = open('last_names.txt')\n",
    "for line in f:\n",
    "    line = line.strip()\n",
    "    regex = r\"^B(a|e)\"\n",
    "    if re.search(regex, line):\n",
    "        print(line)\n",
    "f.close()"
   ]
  },
  {
   "cell_type": "code",
   "execution_count": 5,
   "metadata": {},
   "outputs": [
    {
     "name": "stdout",
     "output_type": "stream",
     "text": [
      "Kaufling\n",
      "King\n",
      "King\n"
     ]
    }
   ],
   "source": [
    "# tìm các last_name kết thúc là ing\n",
    "f = open('last_names.txt')\n",
    "for line in f:\n",
    "    line = line.strip()\n",
    "    regex = r\"ing$\"\n",
    "    if re.search(regex, line):\n",
    "        print(line)\n",
    "f.close()"
   ]
  },
  {
   "cell_type": "code",
   "execution_count": 6,
   "metadata": {},
   "outputs": [
    {
     "name": "stdout",
     "output_type": "stream",
     "text": [
      "Colmenares\n",
      "Doran\n",
      "Fox\n",
      "Johnson\n",
      "Jones\n",
      "Kochhar\n",
      "Lorentz\n",
      "Mourgos\n",
      "Popp\n",
      "Rogers\n",
      "Tobias\n",
      "Vollman\n"
     ]
    }
   ],
   "source": [
    "# tìm các last_name có ký tự thứ hai là chữ o\n",
    "f = open('last_names.txt')\n",
    "for line in f:\n",
    "    line = line.strip()\n",
    "    regex = r\"^.[oO]\"\n",
    "    if re.search(regex, line):\n",
    "        print(line)\n",
    "f.close()"
   ]
  },
  {
   "cell_type": "code",
   "execution_count": 7,
   "metadata": {},
   "outputs": [
    {
     "name": "stdout",
     "output_type": "stream",
     "text": [
      "Taylor\n",
      "Taylor\n",
      "Tucker\n",
      "Tuvault\n"
     ]
    }
   ],
   "source": [
    "# tìm các last_name có ký tự bắt đầu là T và ký tự thứ hai là a hoặc u\n",
    "f = open('last_names.txt')\n",
    "for line in f:\n",
    "    line = line.strip()\n",
    "    regex = r\"^T[a|u]\"\n",
    "    if re.search(regex, line):\n",
    "        print(line)\n",
    "f.close()"
   ]
  },
  {
   "cell_type": "code",
   "execution_count": 8,
   "metadata": {},
   "outputs": [
    {
     "name": "stdout",
     "output_type": "stream",
     "text": [
      "Feeney\n",
      "Greenberg\n",
      "Greene\n"
     ]
    }
   ],
   "source": [
    "f = open('last_names.txt')\n",
    "for line in f:\n",
    "    line = line.strip()\n",
    "    regex = r\"[a-e]en\"\n",
    "    if re.search(regex, line):\n",
    "        print(line)\n",
    "f.close()"
   ]
  },
  {
   "cell_type": "code",
   "execution_count": null,
   "metadata": {},
   "outputs": [],
   "source": []
  }
 ],
 "metadata": {
  "kernelspec": {
   "display_name": "Python 3",
   "language": "python",
   "name": "python3"
  },
  "language_info": {
   "codemirror_mode": {
    "name": "ipython",
    "version": 3
   },
   "file_extension": ".py",
   "mimetype": "text/x-python",
   "name": "python",
   "nbconvert_exporter": "python",
   "pygments_lexer": "ipython3",
   "version": "3.7.4"
  }
 },
 "nbformat": 4,
 "nbformat_minor": 2
}
